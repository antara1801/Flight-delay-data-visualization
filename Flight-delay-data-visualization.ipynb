{
 "cells": [
  {
   "cell_type": "code",
   "execution_count": 1,
   "id": "b0a20c65",
   "metadata": {},
   "outputs": [],
   "source": [
    "import pandas as pd\n",
    "import numpy as np\n",
    "import seaborn as sb\n",
    "import matplotlib.pyplot as py"
   ]
  },
  {
   "cell_type": "code",
   "execution_count": 7,
   "id": "b9270edb",
   "metadata": {},
   "outputs": [],
   "source": [
    "data=pd.read_csv(\"D://plane.csv\")"
   ]
  },
  {
   "cell_type": "code",
   "execution_count": 8,
   "id": "09e99564",
   "metadata": {},
   "outputs": [
    {
     "data": {
      "text/html": [
       "<div>\n",
       "<style scoped>\n",
       "    .dataframe tbody tr th:only-of-type {\n",
       "        vertical-align: middle;\n",
       "    }\n",
       "\n",
       "    .dataframe tbody tr th {\n",
       "        vertical-align: top;\n",
       "    }\n",
       "\n",
       "    .dataframe thead th {\n",
       "        text-align: right;\n",
       "    }\n",
       "</style>\n",
       "<table border=\"1\" class=\"dataframe\">\n",
       "  <thead>\n",
       "    <tr style=\"text-align: right;\">\n",
       "      <th></th>\n",
       "      <th>DAY_OF_MONTH</th>\n",
       "      <th>DAY_OF_WEEK</th>\n",
       "      <th>OP_UNIQUE_CARRIER</th>\n",
       "      <th>OP_CARRIER_AIRLINE_ID</th>\n",
       "      <th>OP_CARRIER</th>\n",
       "      <th>TAIL_NUM</th>\n",
       "      <th>OP_CARRIER_FL_NUM</th>\n",
       "      <th>ORIGIN_AIRPORT_ID</th>\n",
       "      <th>ORIGIN_AIRPORT_SEQ_ID</th>\n",
       "      <th>ORIGIN</th>\n",
       "      <th>...</th>\n",
       "      <th>DEST</th>\n",
       "      <th>DEP_TIME</th>\n",
       "      <th>DEP_DEL15</th>\n",
       "      <th>DEP_TIME_BLK</th>\n",
       "      <th>ARR_TIME</th>\n",
       "      <th>ARR_DEL15</th>\n",
       "      <th>CANCELLED</th>\n",
       "      <th>DIVERTED</th>\n",
       "      <th>DISTANCE</th>\n",
       "      <th>Unnamed: 21</th>\n",
       "    </tr>\n",
       "  </thead>\n",
       "  <tbody>\n",
       "    <tr>\n",
       "      <th>0</th>\n",
       "      <td>1</td>\n",
       "      <td>2</td>\n",
       "      <td>9E</td>\n",
       "      <td>20363</td>\n",
       "      <td>9E</td>\n",
       "      <td>N8688C</td>\n",
       "      <td>3280</td>\n",
       "      <td>11953</td>\n",
       "      <td>1195302</td>\n",
       "      <td>GNV</td>\n",
       "      <td>...</td>\n",
       "      <td>ATL</td>\n",
       "      <td>601.0</td>\n",
       "      <td>0.0</td>\n",
       "      <td>0600-0659</td>\n",
       "      <td>722.0</td>\n",
       "      <td>0.0</td>\n",
       "      <td>0.0</td>\n",
       "      <td>0.0</td>\n",
       "      <td>300.0</td>\n",
       "      <td>NaN</td>\n",
       "    </tr>\n",
       "    <tr>\n",
       "      <th>1</th>\n",
       "      <td>1</td>\n",
       "      <td>2</td>\n",
       "      <td>9E</td>\n",
       "      <td>20363</td>\n",
       "      <td>9E</td>\n",
       "      <td>N348PQ</td>\n",
       "      <td>3281</td>\n",
       "      <td>13487</td>\n",
       "      <td>1348702</td>\n",
       "      <td>MSP</td>\n",
       "      <td>...</td>\n",
       "      <td>CVG</td>\n",
       "      <td>1359.0</td>\n",
       "      <td>0.0</td>\n",
       "      <td>1400-1459</td>\n",
       "      <td>1633.0</td>\n",
       "      <td>0.0</td>\n",
       "      <td>0.0</td>\n",
       "      <td>0.0</td>\n",
       "      <td>596.0</td>\n",
       "      <td>NaN</td>\n",
       "    </tr>\n",
       "    <tr>\n",
       "      <th>2</th>\n",
       "      <td>1</td>\n",
       "      <td>2</td>\n",
       "      <td>9E</td>\n",
       "      <td>20363</td>\n",
       "      <td>9E</td>\n",
       "      <td>N8896A</td>\n",
       "      <td>3282</td>\n",
       "      <td>11433</td>\n",
       "      <td>1143302</td>\n",
       "      <td>DTW</td>\n",
       "      <td>...</td>\n",
       "      <td>CVG</td>\n",
       "      <td>1215.0</td>\n",
       "      <td>0.0</td>\n",
       "      <td>1200-1259</td>\n",
       "      <td>1329.0</td>\n",
       "      <td>0.0</td>\n",
       "      <td>0.0</td>\n",
       "      <td>0.0</td>\n",
       "      <td>229.0</td>\n",
       "      <td>NaN</td>\n",
       "    </tr>\n",
       "    <tr>\n",
       "      <th>3</th>\n",
       "      <td>1</td>\n",
       "      <td>2</td>\n",
       "      <td>9E</td>\n",
       "      <td>20363</td>\n",
       "      <td>9E</td>\n",
       "      <td>N8886A</td>\n",
       "      <td>3283</td>\n",
       "      <td>15249</td>\n",
       "      <td>1524906</td>\n",
       "      <td>TLH</td>\n",
       "      <td>...</td>\n",
       "      <td>ATL</td>\n",
       "      <td>1521.0</td>\n",
       "      <td>0.0</td>\n",
       "      <td>1500-1559</td>\n",
       "      <td>1625.0</td>\n",
       "      <td>0.0</td>\n",
       "      <td>0.0</td>\n",
       "      <td>0.0</td>\n",
       "      <td>223.0</td>\n",
       "      <td>NaN</td>\n",
       "    </tr>\n",
       "    <tr>\n",
       "      <th>4</th>\n",
       "      <td>1</td>\n",
       "      <td>2</td>\n",
       "      <td>9E</td>\n",
       "      <td>20363</td>\n",
       "      <td>9E</td>\n",
       "      <td>N8974C</td>\n",
       "      <td>3284</td>\n",
       "      <td>10397</td>\n",
       "      <td>1039707</td>\n",
       "      <td>ATL</td>\n",
       "      <td>...</td>\n",
       "      <td>FSM</td>\n",
       "      <td>1847.0</td>\n",
       "      <td>0.0</td>\n",
       "      <td>1900-1959</td>\n",
       "      <td>1940.0</td>\n",
       "      <td>0.0</td>\n",
       "      <td>0.0</td>\n",
       "      <td>0.0</td>\n",
       "      <td>579.0</td>\n",
       "      <td>NaN</td>\n",
       "    </tr>\n",
       "    <tr>\n",
       "      <th>...</th>\n",
       "      <td>...</td>\n",
       "      <td>...</td>\n",
       "      <td>...</td>\n",
       "      <td>...</td>\n",
       "      <td>...</td>\n",
       "      <td>...</td>\n",
       "      <td>...</td>\n",
       "      <td>...</td>\n",
       "      <td>...</td>\n",
       "      <td>...</td>\n",
       "      <td>...</td>\n",
       "      <td>...</td>\n",
       "      <td>...</td>\n",
       "      <td>...</td>\n",
       "      <td>...</td>\n",
       "      <td>...</td>\n",
       "      <td>...</td>\n",
       "      <td>...</td>\n",
       "      <td>...</td>\n",
       "      <td>...</td>\n",
       "      <td>...</td>\n",
       "    </tr>\n",
       "    <tr>\n",
       "      <th>583980</th>\n",
       "      <td>31</td>\n",
       "      <td>4</td>\n",
       "      <td>UA</td>\n",
       "      <td>19977</td>\n",
       "      <td>UA</td>\n",
       "      <td>N776UA</td>\n",
       "      <td>200</td>\n",
       "      <td>12016</td>\n",
       "      <td>1201602</td>\n",
       "      <td>GUM</td>\n",
       "      <td>...</td>\n",
       "      <td>HNL</td>\n",
       "      <td>749.0</td>\n",
       "      <td>0.0</td>\n",
       "      <td>0700-0759</td>\n",
       "      <td>1832.0</td>\n",
       "      <td>0.0</td>\n",
       "      <td>0.0</td>\n",
       "      <td>0.0</td>\n",
       "      <td>3801.0</td>\n",
       "      <td>NaN</td>\n",
       "    </tr>\n",
       "    <tr>\n",
       "      <th>583981</th>\n",
       "      <td>31</td>\n",
       "      <td>4</td>\n",
       "      <td>UA</td>\n",
       "      <td>19977</td>\n",
       "      <td>UA</td>\n",
       "      <td>N36280</td>\n",
       "      <td>174</td>\n",
       "      <td>12016</td>\n",
       "      <td>1201602</td>\n",
       "      <td>GUM</td>\n",
       "      <td>...</td>\n",
       "      <td>SPN</td>\n",
       "      <td>717.0</td>\n",
       "      <td>0.0</td>\n",
       "      <td>0700-0759</td>\n",
       "      <td>759.0</td>\n",
       "      <td>0.0</td>\n",
       "      <td>0.0</td>\n",
       "      <td>0.0</td>\n",
       "      <td>129.0</td>\n",
       "      <td>NaN</td>\n",
       "    </tr>\n",
       "    <tr>\n",
       "      <th>583982</th>\n",
       "      <td>31</td>\n",
       "      <td>4</td>\n",
       "      <td>UA</td>\n",
       "      <td>19977</td>\n",
       "      <td>UA</td>\n",
       "      <td>N36280</td>\n",
       "      <td>117</td>\n",
       "      <td>14955</td>\n",
       "      <td>1495503</td>\n",
       "      <td>SPN</td>\n",
       "      <td>...</td>\n",
       "      <td>GUM</td>\n",
       "      <td>857.0</td>\n",
       "      <td>0.0</td>\n",
       "      <td>0900-0959</td>\n",
       "      <td>933.0</td>\n",
       "      <td>0.0</td>\n",
       "      <td>0.0</td>\n",
       "      <td>0.0</td>\n",
       "      <td>129.0</td>\n",
       "      <td>NaN</td>\n",
       "    </tr>\n",
       "    <tr>\n",
       "      <th>583983</th>\n",
       "      <td>31</td>\n",
       "      <td>4</td>\n",
       "      <td>UA</td>\n",
       "      <td>19977</td>\n",
       "      <td>UA</td>\n",
       "      <td>N39726</td>\n",
       "      <td>105</td>\n",
       "      <td>14955</td>\n",
       "      <td>1495503</td>\n",
       "      <td>SPN</td>\n",
       "      <td>...</td>\n",
       "      <td>GUM</td>\n",
       "      <td>1820.0</td>\n",
       "      <td>0.0</td>\n",
       "      <td>1800-1859</td>\n",
       "      <td>1854.0</td>\n",
       "      <td>0.0</td>\n",
       "      <td>0.0</td>\n",
       "      <td>0.0</td>\n",
       "      <td>129.0</td>\n",
       "      <td>NaN</td>\n",
       "    </tr>\n",
       "    <tr>\n",
       "      <th>583984</th>\n",
       "      <td>31</td>\n",
       "      <td>4</td>\n",
       "      <td>UA</td>\n",
       "      <td>19977</td>\n",
       "      <td>UA</td>\n",
       "      <td>N39726</td>\n",
       "      <td>104</td>\n",
       "      <td>12016</td>\n",
       "      <td>1201602</td>\n",
       "      <td>GUM</td>\n",
       "      <td>...</td>\n",
       "      <td>SPN</td>\n",
       "      <td>1636.0</td>\n",
       "      <td>0.0</td>\n",
       "      <td>1600-1659</td>\n",
       "      <td>1719.0</td>\n",
       "      <td>0.0</td>\n",
       "      <td>0.0</td>\n",
       "      <td>0.0</td>\n",
       "      <td>129.0</td>\n",
       "      <td>NaN</td>\n",
       "    </tr>\n",
       "  </tbody>\n",
       "</table>\n",
       "<p>583985 rows × 22 columns</p>\n",
       "</div>"
      ],
      "text/plain": [
       "        DAY_OF_MONTH  DAY_OF_WEEK OP_UNIQUE_CARRIER  OP_CARRIER_AIRLINE_ID  \\\n",
       "0                  1            2                9E                  20363   \n",
       "1                  1            2                9E                  20363   \n",
       "2                  1            2                9E                  20363   \n",
       "3                  1            2                9E                  20363   \n",
       "4                  1            2                9E                  20363   \n",
       "...              ...          ...               ...                    ...   \n",
       "583980            31            4                UA                  19977   \n",
       "583981            31            4                UA                  19977   \n",
       "583982            31            4                UA                  19977   \n",
       "583983            31            4                UA                  19977   \n",
       "583984            31            4                UA                  19977   \n",
       "\n",
       "       OP_CARRIER TAIL_NUM  OP_CARRIER_FL_NUM  ORIGIN_AIRPORT_ID  \\\n",
       "0              9E   N8688C               3280              11953   \n",
       "1              9E   N348PQ               3281              13487   \n",
       "2              9E   N8896A               3282              11433   \n",
       "3              9E   N8886A               3283              15249   \n",
       "4              9E   N8974C               3284              10397   \n",
       "...           ...      ...                ...                ...   \n",
       "583980         UA   N776UA                200              12016   \n",
       "583981         UA   N36280                174              12016   \n",
       "583982         UA   N36280                117              14955   \n",
       "583983         UA   N39726                105              14955   \n",
       "583984         UA   N39726                104              12016   \n",
       "\n",
       "        ORIGIN_AIRPORT_SEQ_ID ORIGIN  ...  DEST  DEP_TIME DEP_DEL15  \\\n",
       "0                     1195302    GNV  ...   ATL     601.0       0.0   \n",
       "1                     1348702    MSP  ...   CVG    1359.0       0.0   \n",
       "2                     1143302    DTW  ...   CVG    1215.0       0.0   \n",
       "3                     1524906    TLH  ...   ATL    1521.0       0.0   \n",
       "4                     1039707    ATL  ...   FSM    1847.0       0.0   \n",
       "...                       ...    ...  ...   ...       ...       ...   \n",
       "583980                1201602    GUM  ...   HNL     749.0       0.0   \n",
       "583981                1201602    GUM  ...   SPN     717.0       0.0   \n",
       "583982                1495503    SPN  ...   GUM     857.0       0.0   \n",
       "583983                1495503    SPN  ...   GUM    1820.0       0.0   \n",
       "583984                1201602    GUM  ...   SPN    1636.0       0.0   \n",
       "\n",
       "        DEP_TIME_BLK  ARR_TIME ARR_DEL15  CANCELLED  DIVERTED  DISTANCE  \\\n",
       "0          0600-0659     722.0       0.0        0.0       0.0     300.0   \n",
       "1          1400-1459    1633.0       0.0        0.0       0.0     596.0   \n",
       "2          1200-1259    1329.0       0.0        0.0       0.0     229.0   \n",
       "3          1500-1559    1625.0       0.0        0.0       0.0     223.0   \n",
       "4          1900-1959    1940.0       0.0        0.0       0.0     579.0   \n",
       "...              ...       ...       ...        ...       ...       ...   \n",
       "583980     0700-0759    1832.0       0.0        0.0       0.0    3801.0   \n",
       "583981     0700-0759     759.0       0.0        0.0       0.0     129.0   \n",
       "583982     0900-0959     933.0       0.0        0.0       0.0     129.0   \n",
       "583983     1800-1859    1854.0       0.0        0.0       0.0     129.0   \n",
       "583984     1600-1659    1719.0       0.0        0.0       0.0     129.0   \n",
       "\n",
       "        Unnamed: 21  \n",
       "0               NaN  \n",
       "1               NaN  \n",
       "2               NaN  \n",
       "3               NaN  \n",
       "4               NaN  \n",
       "...             ...  \n",
       "583980          NaN  \n",
       "583981          NaN  \n",
       "583982          NaN  \n",
       "583983          NaN  \n",
       "583984          NaN  \n",
       "\n",
       "[583985 rows x 22 columns]"
      ]
     },
     "execution_count": 8,
     "metadata": {},
     "output_type": "execute_result"
    }
   ],
   "source": [
    "data"
   ]
  },
  {
   "cell_type": "code",
   "execution_count": 9,
   "id": "a10b37be",
   "metadata": {},
   "outputs": [],
   "source": [
    "df=pd.DataFrame(data)"
   ]
  },
  {
   "cell_type": "code",
   "execution_count": 11,
   "id": "71f6f121",
   "metadata": {},
   "outputs": [
    {
     "name": "stdout",
     "output_type": "stream",
     "text": [
      "<class 'pandas.core.frame.DataFrame'>\n",
      "RangeIndex: 583985 entries, 0 to 583984\n",
      "Data columns (total 22 columns):\n",
      " #   Column                 Non-Null Count   Dtype  \n",
      "---  ------                 --------------   -----  \n",
      " 0   DAY_OF_MONTH           583985 non-null  int64  \n",
      " 1   DAY_OF_WEEK            583985 non-null  int64  \n",
      " 2   OP_UNIQUE_CARRIER      583985 non-null  object \n",
      " 3   OP_CARRIER_AIRLINE_ID  583985 non-null  int64  \n",
      " 4   OP_CARRIER             583985 non-null  object \n",
      " 5   TAIL_NUM               581442 non-null  object \n",
      " 6   OP_CARRIER_FL_NUM      583985 non-null  int64  \n",
      " 7   ORIGIN_AIRPORT_ID      583985 non-null  int64  \n",
      " 8   ORIGIN_AIRPORT_SEQ_ID  583985 non-null  int64  \n",
      " 9   ORIGIN                 583985 non-null  object \n",
      " 10  DEST_AIRPORT_ID        583985 non-null  int64  \n",
      " 11  DEST_AIRPORT_SEQ_ID    583985 non-null  int64  \n",
      " 12  DEST                   583985 non-null  object \n",
      " 13  DEP_TIME               567633 non-null  float64\n",
      " 14  DEP_DEL15              567630 non-null  float64\n",
      " 15  DEP_TIME_BLK           583985 non-null  object \n",
      " 16  ARR_TIME               566924 non-null  float64\n",
      " 17  ARR_DEL15              565963 non-null  float64\n",
      " 18  CANCELLED              583985 non-null  float64\n",
      " 19  DIVERTED               583985 non-null  float64\n",
      " 20  DISTANCE               583985 non-null  float64\n",
      " 21  Unnamed: 21            0 non-null       float64\n",
      "dtypes: float64(8), int64(8), object(6)\n",
      "memory usage: 98.0+ MB\n"
     ]
    }
   ],
   "source": [
    "df.info()"
   ]
  },
  {
   "cell_type": "code",
   "execution_count": 12,
   "id": "67608771",
   "metadata": {},
   "outputs": [],
   "source": [
    "airports=dict(zip(df['DEST_AIRPORT_SEQ_ID'].unique(),df['DISTANCE'].unique()))"
   ]
  },
  {
   "cell_type": "code",
   "execution_count": 13,
   "id": "3e4059ce",
   "metadata": {
    "scrolled": false
   },
   "outputs": [
    {
     "data": {
      "text/plain": [
       "{1039707: 300.0,\n",
       " 1119302: 596.0,\n",
       " 1177801: 229.0,\n",
       " 1348702: 223.0,\n",
       " 1295304: 579.0,\n",
       " 1068502: 574.0,\n",
       " 1126702: 341.0,\n",
       " 1143302: 585.0,\n",
       " 1452401: 833.0,\n",
       " 1161802: 533.0,\n",
       " 1020803: 528.0,\n",
       " 1379502: 166.0,\n",
       " 1195302: 453.0,\n",
       " 1162402: 288.0,\n",
       " 1120302: 488.0,\n",
       " 1086803: 143.0,\n",
       " 1327702: 503.0,\n",
       " 1069302: 399.0,\n",
       " 1302902: 646.0,\n",
       " 1538005: 175.0,\n",
       " 1410803: 192.0,\n",
       " 1059904: 363.0,\n",
       " 1043405: 147.0,\n",
       " 1288403: 227.0,\n",
       " 1541205: 942.0,\n",
       " 1412202: 841.0,\n",
       " 1245102: 371.0,\n",
       " 1200704: 297.0,\n",
       " 1072102: 207.0,\n",
       " 1348502: 565.0,\n",
       " 1247805: 134.0,\n",
       " 1142307: 74.0,\n",
       " 1161206: 152.0,\n",
       " 1323002: 335.0,\n",
       " 1387102: 241.0,\n",
       " 1043105: 604.0,\n",
       " 1481402: 1097.0,\n",
       " 1232305: 228.0,\n",
       " 1161708: 509.0,\n",
       " 1200305: 232.0,\n",
       " 1449202: 620.0,\n",
       " 1294503: 282.0,\n",
       " 1013505: 164.0,\n",
       " 1473003: 692.0,\n",
       " 1357702: 551.0,\n",
       " 1432105: 213.0,\n",
       " 1509602: 184.0,\n",
       " 1115005: 377.0,\n",
       " 1153705: 433.0,\n",
       " 1221702: 887.0,\n",
       " 1537002: 980.0,\n",
       " 1197705: 304.0,\n",
       " 1524906: 443.0,\n",
       " 1114606: 321.0,\n",
       " 1532305: 622.0,\n",
       " 1299206: 317.0,\n",
       " 1198603: 717.0,\n",
       " 1233904: 273.0,\n",
       " 1197302: 1214.0,\n",
       " 1199502: 374.0,\n",
       " 1098002: 534.0,\n",
       " 1226402: 83.0,\n",
       " 1244807: 508.0,\n",
       " 1457606: 332.0,\n",
       " 1530402: 151.0,\n",
       " 1104205: 311.0,\n",
       " 1018502: 674.0,\n",
       " 1079206: 287.0,\n",
       " 1099005: 1050.0,\n",
       " 1082106: 986.0,\n",
       " 1078502: 292.0,\n",
       " 1220605: 489.0,\n",
       " 1409803: 496.0,\n",
       " 1099402: 970.0,\n",
       " 1393102: 408.0,\n",
       " 1468502: 231.0,\n",
       " 1468305: 352.0,\n",
       " 1289208: 306.0,\n",
       " 1483106: 106.0,\n",
       " 1129806: 908.0,\n",
       " 1393007: 718.0,\n",
       " 1474703: 660.0,\n",
       " 1410702: 120.0,\n",
       " 1330303: 254.0,\n",
       " 1410005: 537.0,\n",
       " 1477104: 425.0,\n",
       " 1501606: 431.0,\n",
       " 1105703: 587.0,\n",
       " 1484306: 852.0,\n",
       " 1127805: 95.0,\n",
       " 1320402: 500.0,\n",
       " 1537604: 301.0,\n",
       " 1025702: 427.0,\n",
       " 1169706: 457.0,\n",
       " 1042302: 641.0,\n",
       " 1150305: 266.0,\n",
       " 1217305: 589.0,\n",
       " 1383002: 743.0,\n",
       " 1226603: 1310.0,\n",
       " 1288903: 209.0,\n",
       " 1275804: 296.0,\n",
       " 1349505: 449.0,\n",
       " 1467903: 290.0,\n",
       " 1405702: 448.0,\n",
       " 1071302: 752.0,\n",
       " 1040805: 961.0,\n",
       " 1496002: 1797.0,\n",
       " 1486903: 1438.0,\n",
       " 1163807: 1235.0,\n",
       " 1244102: 733.0,\n",
       " 1319801: 1660.0,\n",
       " 1419306: 631.0,\n",
       " 1154005: 1276.0,\n",
       " 1490803: 806.0,\n",
       " 1014005: 926.0,\n",
       " 1199603: 918.0,\n",
       " 1129202: 1013.0,\n",
       " 1457002: 2611.0,\n",
       " 1329604: 2585.0,\n",
       " 1013603: 1721.0,\n",
       " 1141501: 550.0,\n",
       " 1106606: 1464.0,\n",
       " 1062003: 919.0,\n",
       " 1104902: 930.0,\n",
       " 1026802: 2072.0,\n",
       " 1504803: 331.0,\n",
       " 1478302: 666.0,\n",
       " 1100303: 361.0,\n",
       " 1114008: 1916.0,\n",
       " 1198202: 868.0,\n",
       " 1046902: 1457.0,\n",
       " 1541106: 1440.0,\n",
       " 1591904: 546.0,\n",
       " 1163703: 370.0,\n",
       " 1325602: 1119.0,\n",
       " 1027903: 468.0,\n",
       " 1350202: 226.0,\n",
       " 1289102: 1735.0,\n",
       " 1087402: 1475.0,\n",
       " 1015502: 1562.0,\n",
       " 1295106: 678.0,\n",
       " 1324402: 280.0,\n",
       " 1078105: 544.0,\n",
       " 1177502: 992.0,\n",
       " 1066602: 364.0,\n",
       " 1408202: 647.0,\n",
       " 1062702: 651.0,\n",
       " 1326403: 289.0,\n",
       " 1476106: 599.0,\n",
       " 1182304: 2296.0,\n",
       " 1291703: 920.0,\n",
       " 1469608: 507.0,\n",
       " 1411206: 1032.0,\n",
       " 1431402: 1389.0,\n",
       " 1529502: 721.0,\n",
       " 1058102: 1810.0,\n",
       " 1562404: 2475.0,\n",
       " 1402501: 3784.0,\n",
       " 1425202: 3711.0,\n",
       " 1498603: 447.0,\n",
       " 1426204: 2486.0,\n",
       " 1160302: 2586.0,\n",
       " 1189802: 224.0,\n",
       " 1067602: 2248.0,\n",
       " 1046602: 1121.0,\n",
       " 1226505: 2556.0,\n",
       " 1430705: 247.0,\n",
       " 1254403: 740.0,\n",
       " 1336705: 1096.0,\n",
       " 1219702: 2176.0,\n",
       " 1336003: 2504.0,\n",
       " 1125203: 1972.0,\n",
       " 1164102: 4243.0,\n",
       " 1342202: 650.0,\n",
       " 1052906: 1217.0,\n",
       " 1036105: 867.0,\n",
       " 1224403: 334.0,\n",
       " 1402702: 1171.0,\n",
       " 1295407: 1197.0,\n",
       " 1379608: 1723.0,\n",
       " 1489302: 813.0,\n",
       " 1463502: 1303.0,\n",
       " 1393305: 1670.0,\n",
       " 1502704: 1194.0,\n",
       " 1389101: 748.0,\n",
       " 1080003: 1262.0,\n",
       " 1507002: 1391.0,\n",
       " 1219102: 675.0,\n",
       " 1073203: 2311.0,\n",
       " 1425404: 1514.0,\n",
       " 1502403: 1143.0,\n",
       " 1291503: 1055.0,\n",
       " 1148102: 632.0,\n",
       " 1337702: 761.0,\n",
       " 1385103: 925.0,\n",
       " 1227805: 1172.0,\n",
       " 1306106: 187.0,\n",
       " 1468902: 338.0,\n",
       " 1535602: 1192.0,\n",
       " 1110902: 1616.0,\n",
       " 1425902: 1211.0,\n",
       " 1239103: 2218.0,\n",
       " 1334207: 735.0,\n",
       " 1084905: 612.0,\n",
       " 1298202: 161.0,\n",
       " 1240203: 561.0,\n",
       " 1212402: 583.0,\n",
       " 1289806: 305.0,\n",
       " 1015804: 113.0,\n",
       " 1169502: 366.0,\n",
       " 1251103: 861.0,\n",
       " 1037205: 1061.0,\n",
       " 1209402: 989.0,\n",
       " 1448902: 1437.0,\n",
       " 1192102: 1313.0,\n",
       " 1621802: 1744.0,\n",
       " 1074706: 606.0,\n",
       " 1172105: 2153.0,\n",
       " 1056103: 2133.0,\n",
       " 1329002: 1047.0,\n",
       " 1458804: 1162.0,\n",
       " 1467402: 1250.0,\n",
       " 1479405: 460.0,\n",
       " 1123302: 1089.0,\n",
       " 1324102: 624.0,\n",
       " 1410902: 1005.0,\n",
       " 1125904: 237.0,\n",
       " 1469802: 929.0,\n",
       " 1347605: 1205.0,\n",
       " 1502305: 731.0,\n",
       " 1188402: 190.0,\n",
       " 1463303: 1011.0,\n",
       " 1560702: 801.0,\n",
       " 1318403: 1242.0,\n",
       " 1215605: 1045.0,\n",
       " 1343302: 569.0,\n",
       " 1164802: 1126.0,\n",
       " 1130802: 862.0,\n",
       " 1504102: 922.0,\n",
       " 1014602: 1709.0,\n",
       " 1157706: 1041.0,\n",
       " 1073103: 1345.0,\n",
       " 1445702: 2446.0,\n",
       " 1233502: 119.0,\n",
       " 1307605: 196.0,\n",
       " 1158702: 268.0,\n",
       " 1471105: 2075.0,\n",
       " 1133703: 575.0,\n",
       " 1228002: 1038.0,\n",
       " 1323202: 511.0,\n",
       " 1238902: 529.0,\n",
       " 1348602: 1325.0,\n",
       " 1457405: 257.0,\n",
       " 1146802: 590.0,\n",
       " 1312102: 328.0,\n",
       " 1480202: 808.0,\n",
       " 1487706: 130.0,\n",
       " 1225502: 2239.0,\n",
       " 1055803: 936.0,\n",
       " 1334403: 255.0,\n",
       " 1545405: 728.0,\n",
       " 1096702: 204.0,\n",
       " 1102705: 2125.0,\n",
       " 1428805: 2402.0,\n",
       " 1290205: 2282.0,\n",
       " 1107602: 1999.0,\n",
       " 1147103: 1430.0,\n",
       " 1400602: 89.0,\n",
       " 1495203: 158.0,\n",
       " 1454303: 1021.0,\n",
       " 1558203: 990.0,\n",
       " 1109203: 461.0,\n",
       " 1251902: 416.0,\n",
       " 1144705: 1081.0,\n",
       " 1288802: 413.0,\n",
       " 1186502: 419.0,\n",
       " 1289902: 234.0,\n",
       " 1423705: 436.0,\n",
       " 1315805: 473.0,\n",
       " 1015706: 440.0,\n",
       " 1338801: 438.0,\n",
       " 1448702: 354.0,\n",
       " 1396403: 122.0,\n",
       " 1109702: 102.0,\n",
       " 1312702: 502.0,\n",
       " 1411302: 552.0,\n",
       " 1014106: 264.0,\n",
       " 1033302: 403.0,\n",
       " 1063104: 557.0,\n",
       " 1112205: 637.0,\n",
       " 1073907: 315.0,\n",
       " 1077902: 179.0,\n",
       " 1091802: 469.0,\n",
       " 1101303: 312.0,\n",
       " 1345903: 225.0,\n",
       " 1152505: 764.0,\n",
       " 1239702: 597.0,\n",
       " 1212903: 394.0,\n",
       " 1057705: 722.0,\n",
       " 1538902: 530.0,\n",
       " 1415002: 479.0,\n",
       " 1452002: 140.0,\n",
       " 1234305: 351.0,\n",
       " 1540103: 430.0,\n",
       " 1484202: 135.0,\n",
       " 1190502: 501.0,\n",
       " 1106702: 859.0,\n",
       " 1127402: 642.0,\n",
       " 1186703: 708.0,\n",
       " 1198002: 137.0,\n",
       " 1289607: 1020.0,\n",
       " 1029906: 299.0,\n",
       " 1055102: 724.0,\n",
       " 1017004: 383.0,\n",
       " 1470904: 723.0,\n",
       " 1075405: 932.0,\n",
       " 1163002: 1072.0,\n",
       " 1281902: 1206.0,\n",
       " 1252306: 1208.0,\n",
       " 1482805: 941.0,\n",
       " 1425605: 1628.0,\n",
       " 1584102: 812.0,\n",
       " 1387305: 630.0,\n",
       " 1397005: 1078.0,\n",
       " 1471602: 1001.0,\n",
       " 1201205: 701.0,\n",
       " 1507402: 1220.0,\n",
       " 1072804: 827.0,\n",
       " 1141306: 890.0,\n",
       " 1201602: 776.0,\n",
       " 1495503: 1049.0,\n",
       " 1451202: 916.0,\n",
       " 1222305: 921.0,\n",
       " 1111105: 1678.0,\n",
       " 1217705: 995.0,\n",
       " 1490505: 465.0,\n",
       " 1500803: 477.0,\n",
       " 1599102: 945.0,\n",
       " 1092603: 1299.0,\n",
       " 1016506: 865.0,\n",
       " 1211902: 1118.0,\n",
       " 1398305: 807.0,\n",
       " 1383205: 1334.0,\n",
       " 1422206: 977.0,\n",
       " 1382902: 1141.0,\n",
       " 1313902: 643.0}"
      ]
     },
     "execution_count": 13,
     "metadata": {},
     "output_type": "execute_result"
    }
   ],
   "source": [
    "airports"
   ]
  },
  {
   "cell_type": "code",
   "execution_count": 16,
   "id": "7ace051f",
   "metadata": {},
   "outputs": [],
   "source": [
    "x=df['DISTANCE']"
   ]
  },
  {
   "cell_type": "code",
   "execution_count": 17,
   "id": "a48b64fa",
   "metadata": {},
   "outputs": [
    {
     "name": "stderr",
     "output_type": "stream",
     "text": [
      "C:\\Users\\tanta\\AppData\\Local\\Temp\\ipykernel_10620\\1697046444.py:1: UserWarning: \n",
      "\n",
      "`distplot` is a deprecated function and will be removed in seaborn v0.14.0.\n",
      "\n",
      "Please adapt your code to use either `displot` (a figure-level function with\n",
      "similar flexibility) or `histplot` (an axes-level function for histograms).\n",
      "\n",
      "For a guide to updating your code to use the new functions, please see\n",
      "https://gist.github.com/mwaskom/de44147ed2974457ad6372750bbe5751\n",
      "\n",
      "  sb.distplot(x)\n"
     ]
    },
    {
     "data": {
      "text/plain": [
       "<AxesSubplot: xlabel='DISTANCE', ylabel='Density'>"
      ]
     },
     "execution_count": 17,
     "metadata": {},
     "output_type": "execute_result"
    },
    {
     "data": {
      "image/png": "[encoded data removed]",
      "text/plain": [
       "<Figure size 432x288 with 1 Axes>"
      ]
     },
     "metadata": {
      "needs_background": "light"
     },
     "output_type": "display_data"
    }
   ],
   "source": [
    "sb.distplot(x)"
   ]
  },
  {
   "cell_type": "code",
   "execution_count": 19,
   "id": "f43d0931",
   "metadata": {},
   "outputs": [
    {
     "name": "stderr",
     "output_type": "stream",
     "text": [
      "C:\\Users\\tanta\\AppData\\Local\\Temp\\ipykernel_10620\\3430635475.py:1: FutureWarning: \n",
      "\n",
      "`shade` is now deprecated in favor of `fill`; setting `fill=True`.\n",
      "This will become an error in seaborn v0.14.0; please update your code.\n",
      "\n",
      "  sb.kdeplot(x,shade=True)\n"
     ]
    },
    {
     "data": {
      "text/plain": [
       "<AxesSubplot: xlabel='DISTANCE', ylabel='Density'>"
      ]
     },
     "execution_count": 19,
     "metadata": {},
     "output_type": "execute_result"
    },
    {
     "data": {
      "image/png": "[encoded data removed]",
      "text/plain": [
       "<Figure size 432x288 with 1 Axes>"
      ]
     },
     "metadata": {
      "needs_background": "light"
     },
     "output_type": "display_data"
    }
   ],
   "source": [
    "sb.kdeplot(x,shade=True)"
   ]
  },
  {
   "cell_type": "code",
   "execution_count": 22,
   "id": "790dda64",
   "metadata": {},
   "outputs": [
    {
     "name": "stderr",
     "output_type": "stream",
     "text": [
      "C:\\Users\\tanta\\AppData\\Local\\Temp\\ipykernel_10620\\3726653702.py:2: UserWarning: \n",
      "\n",
      "The `bw` parameter is deprecated in favor of `bw_method` and `bw_adjust`.\n",
      "Setting `bw_method=0.1`, but please see the docs for the new parameters\n",
      "and update your code. This will become an error in seaborn v0.13.0.\n",
      "\n",
      "  sb.kdeplot(x,bw=0.1,label=\"bw: 0.01\")\n",
      "C:\\Users\\tanta\\AppData\\Local\\Temp\\ipykernel_10620\\3726653702.py:3: UserWarning: \n",
      "\n",
      "The `bw` parameter is deprecated in favor of `bw_method` and `bw_adjust`.\n",
      "Setting `bw_method=10`, but please see the docs for the new parameters\n",
      "and update your code. This will become an error in seaborn v0.13.0.\n",
      "\n",
      "  sb.kdeplot(x,bw=10,label=\"bw: 10\")\n"
     ]
    },
    {
     "data": {
      "image/png": "[encoded data removed]",
      "text/plain": [
       "<Figure size 432x288 with 1 Axes>"
      ]
     },
     "metadata": {
      "needs_background": "light"
     },
     "output_type": "display_data"
    }
   ],
   "source": [
    "sb.kdeplot(x)\n",
    "sb.kdeplot(x,bw=0.1,label=\"bw: 0.01\")\n",
    "sb.kdeplot(x,bw=10,label=\"bw: 10\")\n",
    "py.legend();"
   ]
  },
  {
   "cell_type": "code",
   "execution_count": 24,
   "id": "92a86673",
   "metadata": {},
   "outputs": [
    {
     "data": {
      "text/plain": [
       "<AxesSubplot: xlabel='DISTANCE'>"
      ]
     },
     "execution_count": 24,
     "metadata": {},
     "output_type": "execute_result"
    },
    {
     "data": {
      "image/png": "[encoded data removed]",
      "text/plain": [
       "<Figure size 432x288 with 1 Axes>"
      ]
     },
     "metadata": {
      "needs_background": "light"
     },
     "output_type": "display_data"
    }
   ],
   "source": [
    "sb.rugplot(x)"
   ]
  },
  {
   "cell_type": "code",
   "execution_count": 25,
   "id": "4aede1e7",
   "metadata": {},
   "outputs": [
    {
     "name": "stdout",
     "output_type": "stream",
     "text": [
      "<class 'pandas.core.frame.DataFrame'>\n",
      "RangeIndex: 583985 entries, 0 to 583984\n",
      "Data columns (total 22 columns):\n",
      " #   Column                 Non-Null Count   Dtype  \n",
      "---  ------                 --------------   -----  \n",
      " 0   DAY_OF_MONTH           583985 non-null  int64  \n",
      " 1   DAY_OF_WEEK            583985 non-null  int64  \n",
      " 2   OP_UNIQUE_CARRIER      583985 non-null  object \n",
      " 3   OP_CARRIER_AIRLINE_ID  583985 non-null  int64  \n",
      " 4   OP_CARRIER             583985 non-null  object \n",
      " 5   TAIL_NUM               581442 non-null  object \n",
      " 6   OP_CARRIER_FL_NUM      583985 non-null  int64  \n",
      " 7   ORIGIN_AIRPORT_ID      583985 non-null  int64  \n",
      " 8   ORIGIN_AIRPORT_SEQ_ID  583985 non-null  int64  \n",
      " 9   ORIGIN                 583985 non-null  object \n",
      " 10  DEST_AIRPORT_ID        583985 non-null  int64  \n",
      " 11  DEST_AIRPORT_SEQ_ID    583985 non-null  int64  \n",
      " 12  DEST                   583985 non-null  object \n",
      " 13  DEP_TIME               567633 non-null  float64\n",
      " 14  DEP_DEL15              567630 non-null  float64\n",
      " 15  DEP_TIME_BLK           583985 non-null  object \n",
      " 16  ARR_TIME               566924 non-null  float64\n",
      " 17  ARR_DEL15              565963 non-null  float64\n",
      " 18  CANCELLED              583985 non-null  float64\n",
      " 19  DIVERTED               583985 non-null  float64\n",
      " 20  DISTANCE               583985 non-null  float64\n",
      " 21  Unnamed: 21            0 non-null       float64\n",
      "dtypes: float64(8), int64(8), object(6)\n",
      "memory usage: 98.0+ MB\n"
     ]
    }
   ],
   "source": [
    "df.info()"
   ]
  },
  {
   "cell_type": "code",
   "execution_count": 26,
   "id": "2eda769e",
   "metadata": {},
   "outputs": [
    {
     "data": {
      "text/plain": [
       "<seaborn.axisgrid.JointGrid at 0x1bd9b3069a0>"
      ]
     },
     "execution_count": 26,
     "metadata": {},
     "output_type": "execute_result"
    },
    {
     "data": {
      "image/png": "[encoded data removed]",
      "text/plain": [
       "<Figure size 432x432 with 3 Axes>"
      ]
     },
     "metadata": {
      "needs_background": "light"
     },
     "output_type": "display_data"
    }
   ],
   "source": [
    "sb.jointplot(x=df['DAY_OF_MONTH'],y=df['CANCELLED'])"
   ]
  },
  {
   "cell_type": "code",
   "execution_count": 27,
   "id": "77f71e26",
   "metadata": {},
   "outputs": [
    {
     "data": {
      "text/plain": [
       "<seaborn.axisgrid.JointGrid at 0x1bd9167f640>"
      ]
     },
     "execution_count": 27,
     "metadata": {},
     "output_type": "execute_result"
    },
    {
     "data": {
      "image/png": "[encoded data removed]",
      "text/plain": [
       "<Figure size 432x432 with 3 Axes>"
      ]
     },
     "metadata": {
      "needs_background": "light"
     },
     "output_type": "display_data"
    }
   ],
   "source": [
    "sb.jointplot(x=df['DISTANCE'],y=df['CANCELLED'])"
   ]
  },
  {
   "cell_type": "code",
   "execution_count": 28,
   "id": "bed73d39",
   "metadata": {},
   "outputs": [
    {
     "data": {
      "text/plain": [
       "<seaborn.axisgrid.JointGrid at 0x1bdb41ab910>"
      ]
     },
     "execution_count": 28,
     "metadata": {},
     "output_type": "execute_result"
    },
    {
     "data": {
      "image/png": "[encoded data removed]",
      "text/plain": [
       "<Figure size 432x432 with 3 Axes>"
      ]
     },
     "metadata": {
      "needs_background": "light"
     },
     "output_type": "display_data"
    }
   ],
   "source": [
    "sb.jointplot(x=df['DISTANCE'],y=df['DIVERTED'])"
   ]
  },
  {
   "cell_type": "code",
   "execution_count": 29,
   "id": "dc38262a",
   "metadata": {},
   "outputs": [
    {
     "name": "stdout",
     "output_type": "stream",
     "text": [
      "Defaulting to user installation because normal site-packages is not writeable\n",
      "Collecting pandas-profiling\n",
      "  Downloading pandas_profiling-3.6.6-py2.py3-none-any.whl (324 kB)\n",
      "Collecting ydata-profiling\n",
      "  Downloading ydata_profiling-4.1.1-py2.py3-none-any.whl (344 kB)\n",
      "Requirement already satisfied: matplotlib<3.7,>=3.2 in c:\\users\\tanta\\appdata\\roaming\\python\\python39\\site-packages (from ydata-profiling->pandas-profiling) (3.6.3)\n",
      "Collecting pydantic<1.11,>=1.8.1\n",
      "  Downloading pydantic-1.10.7-cp39-cp39-win_amd64.whl (2.2 MB)\n",
      "Requirement already satisfied: tqdm<4.65,>=4.48.2 in c:\\programdata\\anaconda3\\lib\\site-packages (from ydata-profiling->pandas-profiling) (4.64.0)\n",
      "Requirement already satisfied: PyYAML<6.1,>=5.0.0 in c:\\programdata\\anaconda3\\lib\\site-packages (from ydata-profiling->pandas-profiling) (6.0)\n",
      "Requirement already satisfied: seaborn<0.13,>=0.10.1 in c:\\users\\tanta\\appdata\\roaming\\python\\python39\\site-packages (from ydata-profiling->pandas-profiling) (0.12.2)\n",
      "Requirement already satisfied: statsmodels<0.14,>=0.13.2 in c:\\programdata\\anaconda3\\lib\\site-packages (from ydata-profiling->pandas-profiling) (0.13.2)\n",
      "Collecting imagehash==4.3.1\n",
      "  Downloading ImageHash-4.3.1-py2.py3-none-any.whl (296 kB)\n",
      "Collecting visions[type_image_path]==0.7.5\n",
      "  Downloading visions-0.7.5-py3-none-any.whl (102 kB)\n",
      "Requirement already satisfied: pandas!=1.4.0,<1.6,>1.1 in c:\\programdata\\anaconda3\\lib\\site-packages (from ydata-profiling->pandas-profiling) (1.4.2)\n",
      "Collecting htmlmin==0.1.12\n",
      "  Downloading htmlmin-0.1.12.tar.gz (19 kB)\n",
      "Collecting phik<0.13,>=0.11.1\n",
      "  Downloading phik-0.12.3-cp39-cp39-win_amd64.whl (663 kB)\n",
      "Collecting multimethod<1.10,>=1.4\n",
      "  Downloading multimethod-1.9.1-py3-none-any.whl (10 kB)\n",
      "Requirement already satisfied: requests<2.29,>=2.24.0 in c:\\programdata\\anaconda3\\lib\\site-packages (from ydata-profiling->pandas-profiling) (2.27.1)\n",
      "Collecting typeguard<2.14,>=2.13.2\n",
      "  Downloading typeguard-2.13.3-py3-none-any.whl (17 kB)\n",
      "Requirement already satisfied: scipy<1.10,>=1.4.1 in c:\\programdata\\anaconda3\\lib\\site-packages (from ydata-profiling->pandas-profiling) (1.7.3)\n",
      "Requirement already satisfied: numpy<1.24,>=1.16.0 in c:\\programdata\\anaconda3\\lib\\site-packages (from ydata-profiling->pandas-profiling) (1.21.5)\n",
      "Requirement already satisfied: jinja2<3.2,>=2.11.1 in c:\\programdata\\anaconda3\\lib\\site-packages (from ydata-profiling->pandas-profiling) (2.11.3)\n",
      "Requirement already satisfied: PyWavelets in c:\\programdata\\anaconda3\\lib\\site-packages (from imagehash==4.3.1->ydata-profiling->pandas-profiling) (1.3.0)\n",
      "Requirement already satisfied: pillow in c:\\programdata\\anaconda3\\lib\\site-packages (from imagehash==4.3.1->ydata-profiling->pandas-profiling) (9.0.1)\n",
      "Requirement already satisfied: networkx>=2.4 in c:\\programdata\\anaconda3\\lib\\site-packages (from visions[type_image_path]==0.7.5->ydata-profiling->pandas-profiling) (2.7.1)\n",
      "Requirement already satisfied: attrs>=19.3.0 in c:\\programdata\\anaconda3\\lib\\site-packages (from visions[type_image_path]==0.7.5->ydata-profiling->pandas-profiling) (21.4.0)\n",
      "Collecting tangled-up-in-unicode>=0.0.4\n",
      "  Downloading tangled_up_in_unicode-0.2.0-py3-none-any.whl (4.7 MB)\n",
      "Requirement already satisfied: MarkupSafe>=0.23 in c:\\programdata\\anaconda3\\lib\\site-packages (from jinja2<3.2,>=2.11.1->ydata-profiling->pandas-profiling) (2.0.1)\n",
      "Requirement already satisfied: pyparsing>=2.2.1 in c:\\programdata\\anaconda3\\lib\\site-packages (from matplotlib<3.7,>=3.2->ydata-profiling->pandas-profiling) (3.0.4)\n",
      "Requirement already satisfied: kiwisolver>=1.0.1 in c:\\programdata\\anaconda3\\lib\\site-packages (from matplotlib<3.7,>=3.2->ydata-profiling->pandas-profiling) (1.3.2)\n",
      "Requirement already satisfied: fonttools>=4.22.0 in c:\\programdata\\anaconda3\\lib\\site-packages (from matplotlib<3.7,>=3.2->ydata-profiling->pandas-profiling) (4.25.0)\n",
      "Requirement already satisfied: cycler>=0.10 in c:\\programdata\\anaconda3\\lib\\site-packages (from matplotlib<3.7,>=3.2->ydata-profiling->pandas-profiling) (0.11.0)\n",
      "Requirement already satisfied: contourpy>=1.0.1 in c:\\users\\tanta\\appdata\\roaming\\python\\python39\\site-packages (from matplotlib<3.7,>=3.2->ydata-profiling->pandas-profiling) (1.0.7)\n",
      "Requirement already satisfied: python-dateutil>=2.7 in c:\\programdata\\anaconda3\\lib\\site-packages (from matplotlib<3.7,>=3.2->ydata-profiling->pandas-profiling) (2.8.2)\n",
      "Requirement already satisfied: packaging>=20.0 in c:\\programdata\\anaconda3\\lib\\site-packages (from matplotlib<3.7,>=3.2->ydata-profiling->pandas-profiling) (21.3)\n",
      "Requirement already satisfied: pytz>=2020.1 in c:\\programdata\\anaconda3\\lib\\site-packages (from pandas!=1.4.0,<1.6,>1.1->ydata-profiling->pandas-profiling) (2021.3)\n",
      "Requirement already satisfied: joblib>=0.14.1 in c:\\programdata\\anaconda3\\lib\\site-packages (from phik<0.13,>=0.11.1->ydata-profiling->pandas-profiling) (1.1.0)\n",
      "Collecting typing-extensions>=4.2.0\n",
      "  Downloading typing_extensions-4.5.0-py3-none-any.whl (27 kB)\n",
      "Requirement already satisfied: six>=1.5 in c:\\programdata\\anaconda3\\lib\\site-packages (from python-dateutil>=2.7->matplotlib<3.7,>=3.2->ydata-profiling->pandas-profiling) (1.16.0)\n",
      "Requirement already satisfied: idna<4,>=2.5 in c:\\programdata\\anaconda3\\lib\\site-packages (from requests<2.29,>=2.24.0->ydata-profiling->pandas-profiling) (3.3)\n",
      "Requirement already satisfied: certifi>=2017.4.17 in c:\\programdata\\anaconda3\\lib\\site-packages (from requests<2.29,>=2.24.0->ydata-profiling->pandas-profiling) (2021.10.8)\n",
      "Requirement already satisfied: charset-normalizer~=2.0.0 in c:\\programdata\\anaconda3\\lib\\site-packages (from requests<2.29,>=2.24.0->ydata-profiling->pandas-profiling) (2.0.4)\n",
      "Requirement already satisfied: urllib3<1.27,>=1.21.1 in c:\\programdata\\anaconda3\\lib\\site-packages (from requests<2.29,>=2.24.0->ydata-profiling->pandas-profiling) (1.26.9)\n",
      "Requirement already satisfied: patsy>=0.5.2 in c:\\programdata\\anaconda3\\lib\\site-packages (from statsmodels<0.14,>=0.13.2->ydata-profiling->pandas-profiling) (0.5.2)\n",
      "Requirement already satisfied: colorama in c:\\programdata\\anaconda3\\lib\\site-packages (from tqdm<4.65,>=4.48.2->ydata-profiling->pandas-profiling) (0.4.4)\n",
      "Building wheels for collected packages: htmlmin\n",
      "  Building wheel for htmlmin (setup.py): started\n",
      "  Building wheel for htmlmin (setup.py): finished with status 'done'\n",
      "  Created wheel for htmlmin: filename=htmlmin-0.1.12-py3-none-any.whl size=27096 sha256=31a7aea2ad6bff878a563bd043edd501e76b4351ba0b6cf08e29bfbd03314847\n",
      "  Stored in directory: c:\\users\\tanta\\appdata\\local\\pip\\cache\\wheels\\1d\\05\\04\\c6d7d3b66539d9e659ac6dfe81e2d0fd4c1a8316cc5a403300\n",
      "Successfully built htmlmin\n",
      "Installing collected packages: tangled-up-in-unicode, multimethod, visions, typing-extensions, imagehash, typeguard, pydantic, phik, htmlmin, ydata-profiling, pandas-profiling\n",
      "Successfully installed htmlmin-0.1.12 imagehash-4.3.1 multimethod-1.9.1 pandas-profiling-3.6.6 phik-0.12.3 pydantic-1.10.7 tangled-up-in-unicode-0.2.0 typeguard-2.13.3 typing-extensions-4.5.0 visions-0.7.5 ydata-profiling-4.1.1\n"
     ]
    },
    {
     "name": "stderr",
     "output_type": "stream",
     "text": [
      "  WARNING: The script phik_trial.exe is installed in 'C:\\Users\\tanta\\AppData\\Roaming\\Python\\Python39\\Scripts' which is not on PATH.\n",
      "  Consider adding this directory to PATH or, if you prefer to suppress this warning, use --no-warn-script-location.\n",
      "  WARNING: The script htmlmin.exe is installed in 'C:\\Users\\tanta\\AppData\\Roaming\\Python\\Python39\\Scripts' which is not on PATH.\n",
      "  Consider adding this directory to PATH or, if you prefer to suppress this warning, use --no-warn-script-location.\n",
      "  WARNING: The scripts pandas_profiling.exe and ydata_profiling.exe are installed in 'C:\\Users\\tanta\\AppData\\Roaming\\Python\\Python39\\Scripts' which is not on PATH.\n",
      "  Consider adding this directory to PATH or, if you prefer to suppress this warning, use --no-warn-script-location.\n",
      "  WARNING: The script pandas_profiling.exe is installed in 'C:\\Users\\tanta\\AppData\\Roaming\\Python\\Python39\\Scripts' which is not on PATH.\n",
      "  Consider adding this directory to PATH or, if you prefer to suppress this warning, use --no-warn-script-location.\n"
     ]
    }
   ],
   "source": [
    "!pip install pandas-profiling"
   ]
  },
  {
   "cell_type": "code",
   "execution_count": 30,
   "id": "2a54f9fd",
   "metadata": {},
   "outputs": [
    {
     "name": "stderr",
     "output_type": "stream",
     "text": [
      "C:\\Users\\tanta\\AppData\\Local\\Temp\\ipykernel_10620\\4209343599.py:1: DeprecationWarning: `import pandas_profiling` is going to be deprecated by April 1st. Please use `import ydata_profiling` instead.\n",
      "  from pandas_profiling import ProfileReport\n"
     ]
    },
    {
     "data": {
      "application/vnd.jupyter.widget-view+json": {
       "model_id": "f98e7baccec94d77a73eeba8b1c7ed4c",
       "version_major": 2,
       "version_minor": 0
      },
      "text/plain": [
       "Summarize dataset:   0%|          | 0/5 [00:00<?, ?it/s]"
      ]
     },
     "metadata": {},
     "output_type": "display_data"
    },
    {
     "data": {
      "application/vnd.jupyter.widget-view+json": {
       "model_id": "d15119515f8144ae92b637fbbd8aa4fa",
       "version_major": 2,
       "version_minor": 0
      },
      "text/plain": [
       "Generate report structure:   0%|          | 0/1 [00:00<?, ?it/s]"
      ]
     },
     "metadata": {},
     "output_type": "display_data"
    },
    {
     "data": {
      "application/vnd.jupyter.widget-view+json": {
       "model_id": "596268cecda745659b46fdf419a8d1c1",
       "version_major": 2,
       "version_minor": 0
      },
      "text/plain": [
       "Render HTML:   0%|          | 0/1 [00:00<?, ?it/s]"
      ]
     },
     "metadata": {},
     "output_type": "display_data"
    },
    {
     "data": {
      "application/vnd.jupyter.widget-view+json": {
       "model_id": "39bb4720f56a4bf9876f17ac1c97154c",
       "version_major": 2,
       "version_minor": 0
      },
      "text/plain": [
       "Export report to file:   0%|          | 0/1 [00:00<?, ?it/s]"
      ]
     },
     "metadata": {},
     "output_type": "display_data"
    }
   ],
   "source": [
    "from pandas_profiling import ProfileReport\n",
    "prof = ProfileReport(df)\n",
    "prof.to_file(output_file='output.html')"
   ]
  },
  {
   "cell_type": "code",
   "execution_count": null,
   "id": "2bc7322e",
   "metadata": {},
   "outputs": [],
   "source": []
  }
 ],
 "metadata": {
  "kernelspec": {
   "display_name": "Python 3 (ipykernel)",
   "language": "python",
   "name": "python3"
  },
  "language_info": {
   "codemirror_mode": {
    "name": "ipython",
    "version": 3
   },
   "file_extension": ".py",
   "mimetype": "text/x-python",
   "name": "python",
   "nbconvert_exporter": "python",
   "pygments_lexer": "ipython3",
   "version": "3.9.12"
  }
 },
 "nbformat": 4,
 "nbformat_minor": 5
}
